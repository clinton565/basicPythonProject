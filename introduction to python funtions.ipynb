{
 "cells": [
  {
   "cell_type": "code",
   "execution_count": 1,
   "id": "2ee48669",
   "metadata": {},
   "outputs": [
    {
     "name": "stdout",
     "output_type": "stream",
     "text": [
      "clinton says Hallo\n"
     ]
    }
   ],
   "source": [
    "# intodution to funtions\n",
    "\n",
    "\n",
    "def hallo():\n",
    "    print(\"clinton says Hallo\")\n",
    "    \n",
    "    \n",
    "hallo()"
   ]
  },
  {
   "cell_type": "code",
   "execution_count": 4,
   "id": "0dd0638f",
   "metadata": {},
   "outputs": [
    {
     "name": "stdout",
     "output_type": "stream",
     "text": [
      "clinto karanja \n",
      "hallo there.\n"
     ]
    }
   ],
   "source": [
    "# funtions with arguments\n",
    "def greeting(f_name, l_name):# l_name is  a parameter\n",
    "    print (f\"{f_name} {l_name} \")\n",
    "    print(\"hallo there.\")\n",
    "\n",
    "\n",
    "greeting(\"clinto\", \"karanja\" ) # clinton is  an argument\n",
    "         "
   ]
  },
  {
   "cell_type": "code",
   "execution_count": 5,
   "id": "ca7ae8f5",
   "metadata": {},
   "outputs": [],
   "source": [
    "#  types of funtions \n",
    "# 1- funtion that perform a task\n",
    "#  2-funtion that return a value"
   ]
  },
  {
   "cell_type": "code",
   "execution_count": 8,
   "id": "a377aefe",
   "metadata": {},
   "outputs": [
    {
     "data": {
      "text/plain": [
       "'hi clinton'"
      ]
     },
     "execution_count": 8,
     "metadata": {},
     "output_type": "execute_result"
    }
   ],
   "source": [
    "# using  return \n",
    "def get_greeting(name):\n",
    "    return f\"hi {name}\"\n",
    "\n",
    "get_greeting(\"clinton\")"
   ]
  },
  {
   "cell_type": "code",
   "execution_count": 11,
   "id": "65e966b5",
   "metadata": {},
   "outputs": [
    {
     "name": "stdout",
     "output_type": "stream",
     "text": [
      "4\n"
     ]
    }
   ],
   "source": [
    "# using a key word arguments\n",
    "\n",
    "def increment(number, num):\n",
    "    return number + num\n",
    "print(increment(2, num = 2)) #(num  = 2) is a keyword arguments"
   ]
  },
  {
   "cell_type": "code",
   "execution_count": 12,
   "id": "f1ae6b9b",
   "metadata": {},
   "outputs": [
    {
     "data": {
      "text/plain": [
       "8"
      ]
     },
     "execution_count": 12,
     "metadata": {},
     "output_type": "execute_result"
    }
   ],
   "source": [
    "# default arguments \n",
    "\n",
    "def math (num, number =3): # num =  3 is a defalt argument \n",
    "    return num + number\n",
    "\n",
    "\n",
    "math(5)"
   ]
  },
  {
   "cell_type": "code",
   "execution_count": 2,
   "id": "2cebe80d",
   "metadata": {},
   "outputs": [
    {
     "data": {
      "text/plain": [
       "120"
      ]
     },
     "execution_count": 2,
     "metadata": {},
     "output_type": "execute_result"
    }
   ],
   "source": [
    "# collection number of arguments\n",
    "def mult(*numbers):\n",
    "    total = 1\n",
    "    for num in numbers :\n",
    "        total *= num\n",
    "    return total\n",
    "\n",
    "\n",
    "(mult(1,2,3,4,5))"
   ]
  },
  {
   "cell_type": "code",
   "execution_count": 9,
   "id": "642619f4",
   "metadata": {},
   "outputs": [
    {
     "name": "stdout",
     "output_type": "stream",
     "text": [
      "{'id': 1, 'name': 'john', 'age': 22}\n",
      "john\n"
     ]
    }
   ],
   "source": [
    "# dictionary and fuctions\n",
    "def  save(**user):\n",
    "    print(user)\n",
    "    print(user['name']) #print the name \n",
    "    \n",
    "    \n",
    "    \n",
    "save(id =1, name = \"john\", age = 22)"
   ]
  },
  {
   "cell_type": "code",
   "execution_count": 13,
   "id": "752c95d2",
   "metadata": {},
   "outputs": [
    {
     "name": "stdout",
     "output_type": "stream",
     "text": [
      "b\n"
     ]
    }
   ],
   "source": [
    "# scope of funtion  - region of the code  where the variable is defined\n",
    "#local variables have short life time.\n",
    "#  Global variable  -they stay  for long and need to be gabaged collected. \n",
    "#    -use global key word\n",
    "\n",
    "message = \"a\"\n",
    "def greeting(name):\n",
    "    global message    #this is a global message\n",
    "    message = \"b\"\n",
    "    \n",
    "greeting(\"mosh\")\n",
    "print(message)"
   ]
  },
  {
   "cell_type": "code",
   "execution_count": 42,
   "id": "9ad17323",
   "metadata": {},
   "outputs": [
    {
     "name": "stdout",
     "output_type": "stream",
     "text": [
      "163\n"
     ]
    }
   ],
   "source": [
    "# quiz\n",
    "def fizz_buzz(input):\n",
    "    if (input % 3 == 0) and (input % 5 == 0):\n",
    "        return \"Fizz Buzz\"\n",
    "    if input % 3 == 0:\n",
    "        return \"Fizz\"\n",
    "    if input % 5 == 0:\n",
    "        return \"Buzz\"\n",
    "   \n",
    "    else:\n",
    "        return input\n",
    "    \n",
    "    \n",
    "    \n",
    "print(fizz_buzz(163))\n"
   ]
  },
  {
   "cell_type": "markdown",
   "id": "7aad3739",
   "metadata": {},
   "source": [
    "##### "
   ]
  },
  {
   "cell_type": "code",
   "execution_count": null,
   "id": "ef68c948",
   "metadata": {},
   "outputs": [],
   "source": []
  }
 ],
 "metadata": {
  "kernelspec": {
   "display_name": "Python 3 (ipykernel)",
   "language": "python",
   "name": "python3"
  },
  "language_info": {
   "codemirror_mode": {
    "name": "ipython",
    "version": 3
   },
   "file_extension": ".py",
   "mimetype": "text/x-python",
   "name": "python",
   "nbconvert_exporter": "python",
   "pygments_lexer": "ipython3",
   "version": "3.10.9"
  }
 },
 "nbformat": 4,
 "nbformat_minor": 5
}
